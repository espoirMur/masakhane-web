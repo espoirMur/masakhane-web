{
 "cells": [
  {
   "cell_type": "code",
   "execution_count": null,
   "metadata": {},
   "outputs": [],
   "source": [
    "! pip install 'tritonclient[http]'"
   ]
  },
  {
   "cell_type": "code",
   "execution_count": 1,
   "metadata": {},
   "outputs": [],
   "source": [
    "import numpy as np\n",
    "import tritonclient.http as httpclient\n",
    "from tritonclient.utils import triton_to_np_dtype"
   ]
  },
  {
   "cell_type": "code",
   "execution_count": 2,
   "metadata": {},
   "outputs": [],
   "source": [
    "client = httpclient.InferenceServerClient(url=\"localhost:8000\")"
   ]
  },
  {
   "cell_type": "code",
   "execution_count": 3,
   "metadata": {},
   "outputs": [],
   "source": [
    "query = httpclient.InferInput(\"TEXT\", shape=(1,) , datatype=\"BYTES\",)"
   ]
  },
  {
   "cell_type": "code",
   "execution_count": 4,
   "metadata": {},
   "outputs": [],
   "source": [
    "text_to_translate = \"I am learning how to use Triton Server for Machine Learning\""
   ]
  },
  {
   "cell_type": "code",
   "execution_count": 5,
   "metadata": {},
   "outputs": [],
   "source": [
    "query.set_data_from_numpy(np.asarray([text_to_translate], dtype=object))"
   ]
  },
  {
   "cell_type": "code",
   "execution_count": 6,
   "metadata": {},
   "outputs": [],
   "source": [
    "outputs = httpclient.InferRequestedOutput(\"last_hidden_state\", binary_data=False)"
   ]
  },
  {
   "cell_type": "code",
   "execution_count": 11,
   "metadata": {},
   "outputs": [],
   "source": [
    "results = client.infer(model_name=\"ensemble_model\", inputs=[query], outputs=[outputs])\n",
    "inference_output = results.as_numpy('last_hidden_state')"
   ]
  },
  {
   "cell_type": "code",
   "execution_count": 13,
   "metadata": {},
   "outputs": [
    {
     "data": {
      "text/plain": [
       "array([[[ 7.7679259e-01,  1.4532852e+00, -1.8967435e-01, ...,\n",
       "          5.7005119e-01,  8.7255359e-01,  1.6838907e-01],\n",
       "        [-9.8925883e-01,  1.6409956e-03,  2.0253783e-01, ...,\n",
       "          8.2247567e-01, -5.1777565e-01, -5.4934037e-01],\n",
       "        [-5.9773743e-01, -2.0363115e-01, -1.1606464e+00, ...,\n",
       "          1.3142960e+00, -4.0673015e-01, -7.6064217e-01],\n",
       "        ...,\n",
       "        [ 7.5196064e-01, -1.8917030e-01, -6.6133785e-01, ...,\n",
       "         -8.2274461e-01,  4.9503490e-01, -1.0956843e+00],\n",
       "        [-4.6586525e-01, -1.7450033e-01,  2.3366475e+00, ...,\n",
       "          6.8499482e-01, -1.9554511e+00, -6.5189821e-01],\n",
       "        [ 4.4324294e-02,  3.5424236e-02,  3.5430968e-02, ...,\n",
       "          2.1137431e-02,  4.5173883e-02, -3.3297583e-02]]], dtype=float32)"
      ]
     },
     "execution_count": 13,
     "metadata": {},
     "output_type": "execute_result"
    }
   ],
   "source": [
    "inference_output"
   ]
  },
  {
   "attachments": {},
   "cell_type": "markdown",
   "metadata": {},
   "source": [
    "With this we have the transformer working with the encoder part of the model, we need now to learn how to use the decoder and the decoder part with attention"
   ]
  },
  {
   "cell_type": "markdown",
   "metadata": {},
   "source": []
  }
 ],
 "metadata": {
  "kernelspec": {
   "display_name": ".venv",
   "language": "python",
   "name": "python3"
  },
  "language_info": {
   "codemirror_mode": {
    "name": "ipython",
    "version": 3
   },
   "file_extension": ".py",
   "mimetype": "text/x-python",
   "name": "python",
   "nbconvert_exporter": "python",
   "pygments_lexer": "ipython3",
   "version": "3.10.7"
  },
  "orig_nbformat": 4,
  "vscode": {
   "interpreter": {
    "hash": "e7d420a2576d2f2cf4aee17bb1c719cb2b545f2d9fd7bdced2270e528bc643b9"
   }
  }
 },
 "nbformat": 4,
 "nbformat_minor": 2
}
