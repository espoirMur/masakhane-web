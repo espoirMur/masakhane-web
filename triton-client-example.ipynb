{
 "cells": [
  {
   "cell_type": "code",
   "execution_count": 1,
   "metadata": {},
   "outputs": [
    {
     "name": "stdout",
     "output_type": "stream",
     "text": [
      "Collecting tritonclient[http]\n",
      "  Downloading tritonclient-2.35.0-py3-none-any.whl (95 kB)\n",
      "\u001b[2K     \u001b[38;2;114;156;31m━━━━━━━━━━━━━━━━━━━━━━━━━━━━━━━━━━━━━━━━\u001b[0m \u001b[32m95.0/95.0 kB\u001b[0m \u001b[31m3.3 MB/s\u001b[0m eta \u001b[36m0:00:00\u001b[0m\n",
      "\u001b[?25hRequirement already satisfied: numpy>=1.19.1 in ./.venv/lib/python3.10/site-packages (from tritonclient[http]) (1.23.5)\n",
      "Collecting python-rapidjson>=0.9.1 (from tritonclient[http])\n",
      "  Downloading python-rapidjson-1.10.tar.gz (228 kB)\n",
      "\u001b[2K     \u001b[38;2;114;156;31m━━━━━━━━━━━━━━━━━━━━━━━━━━━━━━━━━━━━━━━\u001b[0m \u001b[32m228.6/228.6 kB\u001b[0m \u001b[31m7.9 MB/s\u001b[0m eta \u001b[36m0:00:00\u001b[0m\n",
      "\u001b[?25h  Preparing metadata (setup.py) ... \u001b[?25ldone\n",
      "\u001b[?25hCollecting geventhttpclient<=2.0.2,>=1.4.4 (from tritonclient[http])\n",
      "  Downloading geventhttpclient-2.0.2-cp310-cp310-macosx_11_0_arm64.whl (41 kB)\n",
      "\u001b[2K     \u001b[38;2;114;156;31m━━━━━━━━━━━━━━━━━━━━━━━━━━━━━━━━━━━━━━━━\u001b[0m \u001b[32m41.4/41.4 kB\u001b[0m \u001b[31m3.5 MB/s\u001b[0m eta \u001b[36m0:00:00\u001b[0m\n",
      "\u001b[?25hRequirement already satisfied: aiohttp<4.0.0,>=3.8.1 in ./.venv/lib/python3.10/site-packages (from tritonclient[http]) (3.8.4)\n",
      "Requirement already satisfied: attrs>=17.3.0 in ./.venv/lib/python3.10/site-packages (from aiohttp<4.0.0,>=3.8.1->tritonclient[http]) (22.2.0)\n",
      "Requirement already satisfied: charset-normalizer<4.0,>=2.0 in ./.venv/lib/python3.10/site-packages (from aiohttp<4.0.0,>=3.8.1->tritonclient[http]) (3.0.1)\n",
      "Requirement already satisfied: multidict<7.0,>=4.5 in ./.venv/lib/python3.10/site-packages (from aiohttp<4.0.0,>=3.8.1->tritonclient[http]) (6.0.4)\n",
      "Requirement already satisfied: async-timeout<5.0,>=4.0.0a3 in ./.venv/lib/python3.10/site-packages (from aiohttp<4.0.0,>=3.8.1->tritonclient[http]) (4.0.2)\n",
      "Requirement already satisfied: yarl<2.0,>=1.0 in ./.venv/lib/python3.10/site-packages (from aiohttp<4.0.0,>=3.8.1->tritonclient[http]) (1.8.2)\n",
      "Requirement already satisfied: frozenlist>=1.1.1 in ./.venv/lib/python3.10/site-packages (from aiohttp<4.0.0,>=3.8.1->tritonclient[http]) (1.3.3)\n",
      "Requirement already satisfied: aiosignal>=1.1.2 in ./.venv/lib/python3.10/site-packages (from aiohttp<4.0.0,>=3.8.1->tritonclient[http]) (1.3.1)\n",
      "Collecting gevent>=0.13 (from geventhttpclient<=2.0.2,>=1.4.4->tritonclient[http])\n",
      "  Downloading gevent-22.10.2.tar.gz (6.6 MB)\n",
      "\u001b[2K     \u001b[38;2;114;156;31m━━━━━━━━━━━━━━━━━━━━━━━━━━━━━━━━━━━━━━━━\u001b[0m \u001b[32m6.6/6.6 MB\u001b[0m \u001b[31m8.8 MB/s\u001b[0m eta \u001b[36m0:00:00\u001b[0m[31m8.9 MB/s\u001b[0m eta \u001b[36m0:00:01\u001b[0m\n",
      "\u001b[?25h  Installing build dependencies ... \u001b[?25ldone\n",
      "\u001b[?25h  Getting requirements to build wheel ... \u001b[?25ldone\n",
      "\u001b[?25h  Installing backend dependencies ... \u001b[?25ldone\n",
      "\u001b[?25h  Preparing metadata (pyproject.toml) ... \u001b[?25ldone\n",
      "\u001b[?25hRequirement already satisfied: certifi in ./.venv/lib/python3.10/site-packages (from geventhttpclient<=2.0.2,>=1.4.4->tritonclient[http]) (2022.12.7)\n",
      "Requirement already satisfied: six in ./.venv/lib/python3.10/site-packages (from geventhttpclient<=2.0.2,>=1.4.4->tritonclient[http]) (1.16.0)\n",
      "Collecting brotli (from geventhttpclient<=2.0.2,>=1.4.4->tritonclient[http])\n",
      "  Downloading Brotli-1.0.9-cp310-cp310-macosx_10_9_universal2.whl (786 kB)\n",
      "\u001b[2K     \u001b[38;2;114;156;31m━━━━━━━━━━━━━━━━━━━━━━━━━━━━━━━━━━━━━━━\u001b[0m \u001b[32m786.7/786.7 kB\u001b[0m \u001b[31m8.6 MB/s\u001b[0m eta \u001b[36m0:00:00\u001b[0m[31m9.3 MB/s\u001b[0m eta \u001b[36m0:00:01\u001b[0m\n",
      "\u001b[?25hCollecting zope.event (from gevent>=0.13->geventhttpclient<=2.0.2,>=1.4.4->tritonclient[http])\n",
      "  Downloading zope.event-5.0-py3-none-any.whl (6.8 kB)\n",
      "Collecting zope.interface (from gevent>=0.13->geventhttpclient<=2.0.2,>=1.4.4->tritonclient[http])\n",
      "  Downloading zope.interface-6.0-cp310-cp310-macosx_11_0_arm64.whl (202 kB)\n",
      "\u001b[2K     \u001b[38;2;114;156;31m━━━━━━━━━━━━━━━━━━━━━━━━━━━━━━━━━━━━━━━\u001b[0m \u001b[32m202.4/202.4 kB\u001b[0m \u001b[31m7.2 MB/s\u001b[0m eta \u001b[36m0:00:00\u001b[0m\n",
      "\u001b[?25hRequirement already satisfied: setuptools in ./.venv/lib/python3.10/site-packages (from gevent>=0.13->geventhttpclient<=2.0.2,>=1.4.4->tritonclient[http]) (67.8.0)\n",
      "Collecting greenlet>=2.0.0 (from gevent>=0.13->geventhttpclient<=2.0.2,>=1.4.4->tritonclient[http])\n",
      "  Using cached greenlet-2.0.2-cp310-cp310-macosx_13_0_arm64.whl\n",
      "Requirement already satisfied: idna>=2.0 in ./.venv/lib/python3.10/site-packages (from yarl<2.0,>=1.0->aiohttp<4.0.0,>=3.8.1->tritonclient[http]) (3.4)\n",
      "Building wheels for collected packages: python-rapidjson, gevent\n",
      "  Building wheel for python-rapidjson (setup.py) ... \u001b[?25ldone\n",
      "\u001b[?25h  Created wheel for python-rapidjson: filename=python_rapidjson-1.10-cp310-cp310-macosx_13_0_arm64.whl size=197754 sha256=9db5178748e32fc5fe608f7012c1ee0abc61d838d8b56f78108960ea731ce4ef\n",
      "  Stored in directory: /Users/esp.py/Library/Caches/pip/wheels/48/ae/46/4371f4b42ff23e446f7309eeeb6abfd9e1fedad4cf5af05b96\n",
      "  Building wheel for gevent (pyproject.toml) ... \u001b[?25ldone\n",
      "\u001b[?25h  Created wheel for gevent: filename=gevent-22.10.2-cp310-cp310-macosx_13_0_arm64.whl size=1806405 sha256=8e69bde0e3ec9fddd2042ed799ec311edae8d46f82d9d0231e0fe8bf4ca38508\n",
      "  Stored in directory: /Users/esp.py/Library/Caches/pip/wheels/17/de/c5/51b1e40d3d86a601c822e0cec04bfcdd91e56742b4d51e5408\n",
      "Successfully built python-rapidjson gevent\n",
      "Installing collected packages: brotli, zope.interface, zope.event, python-rapidjson, greenlet, tritonclient, gevent, geventhttpclient\n",
      "Successfully installed brotli-1.0.9 gevent-22.10.2 geventhttpclient-2.0.2 greenlet-2.0.2 python-rapidjson-1.10 tritonclient-2.35.0 zope.event-5.0 zope.interface-6.0\n"
     ]
    }
   ],
   "source": [
    "! pip install 'tritonclient[http]'"
   ]
  },
  {
   "cell_type": "code",
   "execution_count": 2,
   "metadata": {},
   "outputs": [],
   "source": [
    "import numpy as np\n",
    "import tritonclient.http as httpclient\n",
    "from tritonclient.utils import triton_to_np_dtype"
   ]
  },
  {
   "cell_type": "code",
   "execution_count": 8,
   "metadata": {},
   "outputs": [],
   "source": [
    "client = httpclient.InferenceServerClient(url=\"localhost:8000\")"
   ]
  },
  {
   "cell_type": "code",
   "execution_count": 3,
   "metadata": {},
   "outputs": [],
   "source": [
    "query = httpclient.InferInput(\"TEXT\", shape=(1,) , datatype=\"BYTES\",)"
   ]
  },
  {
   "cell_type": "code",
   "execution_count": 4,
   "metadata": {},
   "outputs": [],
   "source": [
    "text_to_translate = \"I am learning how to use Triton Server for Machine Learning\""
   ]
  },
  {
   "cell_type": "code",
   "execution_count": 5,
   "metadata": {},
   "outputs": [],
   "source": [
    "query.set_data_from_numpy(np.asarray([text_to_translate], dtype=object))"
   ]
  },
  {
   "cell_type": "code",
   "execution_count": 6,
   "metadata": {},
   "outputs": [],
   "source": [
    "outputs = httpclient.InferRequestedOutput(\"last_hidden_state\", binary_data=False)"
   ]
  },
  {
   "cell_type": "code",
   "execution_count": 9,
   "metadata": {},
   "outputs": [],
   "source": [
    "results = client.infer(model_name=\"ensemble_model\", inputs=[query], outputs=[outputs])\n",
    "inference_output = results.as_numpy('last_hidden_state')"
   ]
  },
  {
   "cell_type": "code",
   "execution_count": 10,
   "metadata": {},
   "outputs": [
    {
     "data": {
      "text/plain": [
       "array([[[ 7.7679253e-01,  1.4532851e+00, -1.8967432e-01, ...,\n",
       "          5.7005125e-01,  8.7255359e-01,  1.6838910e-01],\n",
       "        [-9.8925894e-01,  1.6409941e-03,  2.0253782e-01, ...,\n",
       "          8.2247579e-01, -5.1777565e-01, -5.4934025e-01],\n",
       "        [-5.9773749e-01, -2.0363115e-01, -1.1606464e+00, ...,\n",
       "          1.3142958e+00, -4.0673012e-01, -7.6064211e-01],\n",
       "        ...,\n",
       "        [ 7.5196075e-01, -1.8917035e-01, -6.6133803e-01, ...,\n",
       "         -8.2274443e-01,  4.9503481e-01, -1.0956843e+00],\n",
       "        [-4.6586528e-01, -1.7450033e-01,  2.3366473e+00, ...,\n",
       "          6.8499488e-01, -1.9554515e+00, -6.5189815e-01],\n",
       "        [ 4.4324290e-02,  3.5424232e-02,  3.5430957e-02, ...,\n",
       "          2.1137428e-02,  4.5173872e-02, -3.3297587e-02]]], dtype=float32)"
      ]
     },
     "execution_count": 10,
     "metadata": {},
     "output_type": "execute_result"
    }
   ],
   "source": [
    "inference_output"
   ]
  },
  {
   "attachments": {},
   "cell_type": "markdown",
   "metadata": {},
   "source": [
    "With this we have the transformer working with the encoder part of the model, we need now to learn how to use the decoder and the decoder part with attention"
   ]
  },
  {
   "attachments": {},
   "cell_type": "markdown",
   "metadata": {},
   "source": [
    " docker run --rm -p 8000:8000 -p 8001:8001 -p 8002:8002 -v ${PWD}/triton_model_repository:/models nvcr.io/nvidia/tritonserver:23.06-py3 bash -c \"pip install transformers==4.30.2  sentencepiece==0.1.99 && tritonserver --model-repository=/models\""
   ]
  }
 ],
 "metadata": {
  "kernelspec": {
   "display_name": ".venv",
   "language": "python",
   "name": "python3"
  },
  "language_info": {
   "codemirror_mode": {
    "name": "ipython",
    "version": 3
   },
   "file_extension": ".py",
   "mimetype": "text/x-python",
   "name": "python",
   "nbconvert_exporter": "python",
   "pygments_lexer": "ipython3",
   "version": "3.10.4"
  },
  "orig_nbformat": 4,
  "vscode": {
   "interpreter": {
    "hash": "e7d420a2576d2f2cf4aee17bb1c719cb2b545f2d9fd7bdced2270e528bc643b9"
   }
  }
 },
 "nbformat": 4,
 "nbformat_minor": 2
}
